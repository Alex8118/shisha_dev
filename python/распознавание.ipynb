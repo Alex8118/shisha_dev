{
 "cells": [
  {
   "cell_type": "markdown",
   "metadata": {},
   "source": [
    "https://neurohive.io/ru/tutorial/image-recognition-training-inception-v3/"
   ]
  },
  {
   "cell_type": "code",
   "execution_count": 4,
   "metadata": {},
   "outputs": [],
   "source": [
    "# !pip install --upgrade tensorflow"
   ]
  },
  {
   "cell_type": "markdown",
   "metadata": {},
   "source": [
    "https://neurohive.io/ru/tutorial/tensorflow-mobile-ios-android/"
   ]
  },
  {
   "cell_type": "code",
   "execution_count": 5,
   "metadata": {},
   "outputs": [],
   "source": [
    "import tensorflow as tf"
   ]
  },
  {
   "cell_type": "code",
   "execution_count": 6,
   "metadata": {},
   "outputs": [],
   "source": [
    "# Initialize two constants\n",
    "x1 = tf.constant([1,2,3,4])\n",
    "x2 = tf.constant([5,6,7,8])"
   ]
  },
  {
   "cell_type": "code",
   "execution_count": 8,
   "metadata": {},
   "outputs": [],
   "source": [
    "# Multiply\n",
    "result = tf.multiply(x1, x2)"
   ]
  },
  {
   "cell_type": "code",
   "execution_count": 10,
   "metadata": {},
   "outputs": [
    {
     "name": "stdout",
     "output_type": "stream",
     "text": [
      "tf.Tensor([ 5 12 21 32], shape=(4,), dtype=int32)\n"
     ]
    }
   ],
   "source": [
    "print(result)"
   ]
  },
  {
   "cell_type": "code",
   "execution_count": 12,
   "metadata": {},
   "outputs": [
    {
     "data": {
      "text/plain": [
       "\u001b[1;31mType:\u001b[0m        module\n",
       "\u001b[1;31mString form:\u001b[0m <module 'tensorflow' from 'C:\\\\Users\\\\carne\\\\anaconda3\\\\lib\\\\site-packages\\\\tensorflow\\\\__init__.py'>\n",
       "\u001b[1;31mFile:\u001b[0m        c:\\users\\carne\\anaconda3\\lib\\site-packages\\tensorflow\\__init__.py\n",
       "\u001b[1;31mDocstring:\u001b[0m  \n",
       "Top-level module of TensorFlow. By convention, we refer to this module as\n",
       "`tf` instead of `tensorflow`, following the common practice of importing\n",
       "TensorFlow via the command `import tensorflow as tf`.\n",
       "\n",
       "The primary function of this module is to import all of the public TensorFlow\n",
       "interfaces into a single place. The interfaces themselves are located in\n",
       "sub-modules, as described below.\n",
       "\n",
       "Note that the file `__init__.py` in the TensorFlow source code tree is actually\n",
       "only a placeholder to enable test cases to run. The TensorFlow build replaces\n",
       "this file with a file generated from [`api_template.__init__.py`](https://www.github.com/tensorflow/tensorflow/blob/master/tensorflow/api_template.__init__.py)\n"
      ]
     },
     "metadata": {},
     "output_type": "display_data"
    }
   ],
   "source": [
    "?tf"
   ]
  }
 ],
 "metadata": {
  "kernelspec": {
   "display_name": "Python 3",
   "language": "python",
   "name": "python3"
  },
  "language_info": {
   "codemirror_mode": {
    "name": "ipython",
    "version": 3
   },
   "file_extension": ".py",
   "mimetype": "text/x-python",
   "name": "python",
   "nbconvert_exporter": "python",
   "pygments_lexer": "ipython3",
   "version": "3.8.5"
  }
 },
 "nbformat": 4,
 "nbformat_minor": 4
}
